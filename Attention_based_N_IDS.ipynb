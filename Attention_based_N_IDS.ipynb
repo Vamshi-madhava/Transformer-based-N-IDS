{
  "nbformat": 4,
  "nbformat_minor": 0,
  "metadata": {
    "colab": {
      "provenance": [],
      "gpuType": "L4"
    },
    "kernelspec": {
      "name": "python3",
      "display_name": "Python 3"
    },
    "language_info": {
      "name": "python"
    },
    "accelerator": "GPU"
  },
  "cells": [
    {
      "cell_type": "code",
      "execution_count": 3,
      "metadata": {
        "colab": {
          "base_uri": "https://localhost:8080/"
        },
        "id": "kW3Gf1-6l0Sv",
        "outputId": "f1f5bacd-0985-4514-f9ab-de39ef9bbc78"
      },
      "outputs": [
        {
          "output_type": "stream",
          "name": "stdout",
          "text": [
            "Drive already mounted at /content/drive; to attempt to forcibly remount, call drive.mount(\"/content/drive\", force_remount=True).\n",
            "Epoch 1: Train Loss=0.2249, Train Acc=0.9077 | Val Loss=0.1140, Val Acc=0.9511\n",
            "Epoch 2: Train Loss=0.0858, Train Acc=0.9671 | Val Loss=0.0674, Val Acc=0.9738\n",
            "Epoch 3: Train Loss=0.0627, Train Acc=0.9785 | Val Loss=0.0549, Val Acc=0.9802\n",
            "Epoch 4: Train Loss=0.0558, Train Acc=0.9816 | Val Loss=0.0499, Val Acc=0.9845\n",
            "Epoch 5: Train Loss=0.0515, Train Acc=0.9837 | Val Loss=0.0433, Val Acc=0.9866\n",
            "Epoch 6: Train Loss=0.0484, Train Acc=0.9848 | Val Loss=0.0533, Val Acc=0.9821\n",
            "Epoch 7: Train Loss=0.0450, Train Acc=0.9859 | Val Loss=0.0375, Val Acc=0.9886\n",
            "Epoch 8: Train Loss=0.0419, Train Acc=0.9870 | Val Loss=0.0475, Val Acc=0.9844\n",
            "Epoch 9: Train Loss=0.0387, Train Acc=0.9883 | Val Loss=0.0330, Val Acc=0.9896\n",
            "Epoch 10: Train Loss=0.0364, Train Acc=0.9889 | Val Loss=0.0305, Val Acc=0.9912\n"
          ]
        }
      ],
      "source": [
        "from google.colab import drive\n",
        "drive.mount('/content/drive')\n",
        "\n",
        "import torch\n",
        "import torch.nn as nn\n",
        "import torch.nn.functional as F\n",
        "from torch.utils.data import Dataset, DataLoader\n",
        "import numpy as np\n",
        "\n",
        "device = torch.device('cuda' if torch.cuda.is_available() else 'cpu')\n",
        "\n",
        "\n",
        "class TransformerTabularClassifier(nn.Module):\n",
        "    def __init__(self, num_features, d_model=64, n_heads=4, n_layers=2, ffn_hidden=128, num_classes=2, dropout=0.1):\n",
        "        super().__init__()\n",
        "        self.d_model = d_model\n",
        "        self.embedding = nn.Linear(1, d_model)\n",
        "\n",
        "        encoder_layer = nn.TransformerEncoderLayer(d_model=d_model, nhead=n_heads,\n",
        "                                                   dim_feedforward=ffn_hidden, dropout=dropout, batch_first=True)\n",
        "        self.transformer = nn.TransformerEncoder(encoder_layer, num_layers=n_layers)\n",
        "\n",
        "        self.pool = nn.AdaptiveAvgPool1d(1)\n",
        "        self.classifier = nn.Sequential(\n",
        "            nn.Linear(d_model, ffn_hidden),\n",
        "            nn.ReLU(),\n",
        "            nn.Dropout(dropout),\n",
        "            nn.Linear(ffn_hidden, num_classes)\n",
        "        )\n",
        "\n",
        "    def forward(self, x):\n",
        "        x = x.unsqueeze(-1)\n",
        "        x = self.embedding(x)\n",
        "        x = self.transformer(x)\n",
        "        x = x.mean(dim=1)\n",
        "        out = self.classifier(x)\n",
        "        return out\n",
        "\n",
        "class CICIDSDataset(Dataset):\n",
        "    def __init__(self, path, split='train'):\n",
        "        data = np.load(path)\n",
        "        self.x = torch.tensor(data[f\"X_{split}\"], dtype=torch.float32)\n",
        "        self.y = torch.tensor(data[f\"y_{split}\"], dtype=torch.long)\n",
        "\n",
        "    def __len__(self):\n",
        "        return len(self.x)\n",
        "\n",
        "    def __getitem__(self, idx):\n",
        "        return self.x[idx], self.y[idx]\n",
        "\n",
        "train_ds = CICIDSDataset('/content/drive/MyDrive/processed_cicids_subset.npz', split='train')\n",
        "val_ds = CICIDSDataset('/content/drive/MyDrive/processed_cicids_subset.npz', split='test')\n",
        "\n",
        "\n",
        "train_loader = DataLoader(train_ds, batch_size=512, shuffle=True)\n",
        "val_loader = DataLoader(val_ds, batch_size=512)\n",
        "\n",
        "\n",
        "def train_epoch(model, dataloader, criterion, optimizer):\n",
        "    model.train()\n",
        "    total_loss, correct, total = 0.0, 0, 0\n",
        "\n",
        "    for xb, yb in dataloader:\n",
        "        xb, yb = xb.to(device), yb.to(device)\n",
        "\n",
        "        optimizer.zero_grad()\n",
        "        logits = model(xb)\n",
        "        loss = criterion(logits, yb)\n",
        "        loss.backward()\n",
        "        optimizer.step()\n",
        "\n",
        "        total_loss += loss.item() * xb.size(0)\n",
        "        preds = logits.argmax(dim=1)\n",
        "        correct += (preds == yb).sum().item()\n",
        "        total += xb.size(0)\n",
        "\n",
        "    return total_loss / total, correct / total\n",
        "\n",
        "\n",
        "def evaluate(model, dataloader, criterion):\n",
        "    model.eval()\n",
        "    total_loss, correct, total = 0.0, 0, 0\n",
        "\n",
        "    with torch.no_grad():\n",
        "        for xb, yb in dataloader:\n",
        "            xb, yb = xb.to(device), yb.to(device)\n",
        "\n",
        "            logits = model(xb)\n",
        "            loss = criterion(logits, yb)\n",
        "\n",
        "            total_loss += loss.item() * xb.size(0)\n",
        "            preds = logits.argmax(dim=1)\n",
        "            correct += (preds == yb).sum().item()\n",
        "            total += xb.size(0)\n",
        "\n",
        "    return total_loss / total, correct / total\n",
        "\n",
        "model = TransformerTabularClassifier(num_features=77).to(device)\n",
        "criterion = nn.CrossEntropyLoss()\n",
        "optimizer = torch.optim.Adam(model.parameters(), lr=1e-4)\n",
        "\n",
        "for epoch in range(10):\n",
        "    train_loss, train_acc = train_epoch(model, train_loader, criterion, optimizer)\n",
        "    val_loss, val_acc = evaluate(model, val_loader, criterion)\n",
        "    print(f\"Epoch {epoch+1}: Train Loss={train_loss:.4f}, Train Acc={train_acc:.4f} | Val Loss={val_loss:.4f}, Val Acc={val_acc:.4f}\")\n",
        "\n",
        "\n",
        "\n"
      ]
    },
    {
      "cell_type": "code",
      "source": [
        "from sklearn.metrics import classification_report, confusion_matrix\n",
        "import seaborn as sns\n",
        "import matplotlib.pyplot as plt\n",
        "\n",
        "def evaluate_detailed(model, dataloader):\n",
        "    model.eval()\n",
        "    all_preds, all_labels = [], []\n",
        "\n",
        "    with torch.no_grad():\n",
        "        for xb, yb in dataloader:\n",
        "            xb = xb.to(device)\n",
        "            logits = model(xb)\n",
        "            preds = torch.argmax(logits, dim=1).cpu()\n",
        "            all_preds.extend(preds.tolist())\n",
        "            all_labels.extend(yb.tolist())\n",
        "\n",
        "    return all_preds, all_labels\n",
        "\n",
        "\n",
        "preds, labels = evaluate_detailed(model, val_loader)\n",
        "\n",
        "\n",
        "print(classification_report(labels, preds, target_names=[\"Benign\", \"Attack\"]))\n",
        "\n",
        "\n",
        "cm = confusion_matrix(labels, preds)\n",
        "sns.heatmap(cm, annot=True, fmt='d', cmap='Blues', xticklabels=[\"Benign\", \"Attack\"], yticklabels=[\"Benign\", \"Attack\"])\n",
        "plt.xlabel(\"Predicted\")\n",
        "plt.ylabel(\"Actual\")\n",
        "plt.title(\"Confusion Matrix\")\n",
        "plt.show()"
      ],
      "metadata": {
        "colab": {
          "base_uri": "https://localhost:8080/",
          "height": 635
        },
        "id": "q3o3BJcV3ww2",
        "outputId": "2d4e8a35-3726-4d8b-d21b-c04e20a735bc"
      },
      "execution_count": 5,
      "outputs": [
        {
          "output_type": "stream",
          "name": "stdout",
          "text": [
            "              precision    recall  f1-score   support\n",
            "\n",
            "      Benign       0.99      1.00      0.99    117647\n",
            "      Attack       0.99      0.96      0.98     25994\n",
            "\n",
            "    accuracy                           0.99    143641\n",
            "   macro avg       0.99      0.98      0.99    143641\n",
            "weighted avg       0.99      0.99      0.99    143641\n",
            "\n"
          ]
        },
        {
          "output_type": "display_data",
          "data": {
            "text/plain": [
              "<Figure size 640x480 with 2 Axes>"
            ],
            "image/png": "[encoded data removed]"
          },
          "metadata": {}
        }
      ]
    }
  ]
}